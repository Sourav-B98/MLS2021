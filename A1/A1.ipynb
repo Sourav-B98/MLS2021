{
 "cells": [
  {
   "cell_type": "markdown",
   "metadata": {},
   "source": [
    "# Under Gaussian noise assumption linear regression amounts to least square.\n",
    "\n",
    "\n",
    "\n"
   ]
  },
  {
   "cell_type": "markdown",
   "metadata": {},
   "source": [
    " ### <center>Sourav Bhattacharjee "
   ]
  },
  {
   "cell_type": "markdown",
   "metadata": {},
   "source": [
    "##### <center>February 2021"
   ]
  },
  {
   "cell_type": "markdown",
   "metadata": {},
   "source": [
    "## 1.   Probabilistic Modeling of Linear Regression"
   ]
  },
  {
   "cell_type": "markdown",
   "metadata": {},
   "source": [
    "### 1.1  <u>Linear model:"
   ]
  },
  {
   "cell_type": "markdown",
   "metadata": {},
   "source": [
    "Suppose we are given a dataset $D= [x_i,y_i]_{i=1}^m$. $x_{i}'$s are known as the feature and $y_{i}'$s are known as target. We want to fit a line to the given data. Suppose we fit a line\n",
    "$$y_i \\approx \\theta^T x_i$$\n",
    "$$or,y_i=\\theta^T x_i + \\epsilon_i$$\n",
    "where $\\epsilon_i$'s are random noise to model unknown effects and follow Gaussian distribution. i.e. \n",
    "$$\\epsilon_i\\sim N(0,\\sigma^2)$$\n",
    "$$\\Rightarrow p(\\epsilon_i) = \\frac{1}{\\sqrt{2\\pi}\\sigma}exp\\left(-\\frac{\\epsilon_i^2}{2\\sigma^2}\\right)$$\n",
    "$$\\Rightarrow p(y_i-\\theta^T x_i)=\\frac{1}{\\sqrt{2\\pi}\\sigma}exp\\left[-\\frac{(y_i-\\theta^T x_i)^2}{2\\sigma^2}\\right]$$\n",
    "However the conventional way to write the probability is:\n",
    "$$p(y_i|x_i;\\theta)= \\frac{1}{\\sqrt{2\\pi}\\sigma}exp\\left[-\\frac{(y_i-\\theta^Tx_i)^2}{2\\sigma^2}\\right]$$"
   ]
  },
  {
   "cell_type": "markdown",
   "metadata": {},
   "source": [
    "### 1.2  <u>Parameter Estimation:"
   ]
  },
  {
   "cell_type": "markdown",
   "metadata": {},
   "source": [
    "#### Bayes Theorem:"
   ]
  },
  {
   "cell_type": "markdown",
   "metadata": {},
   "source": [
    "$$p(\\theta|D)= \\frac{p(D|\\theta)p(\\theta)}{p(D)} \\\\\n",
    "= \\frac{p(\\theta,D)}{p(D)}$$"
   ]
  },
  {
   "cell_type": "markdown",
   "metadata": {},
   "source": [
    "### <U>1.3 Maximum Likelihood Estimation(MLE):###"
   ]
  },
  {
   "cell_type": "markdown",
   "metadata": {},
   "source": [
    "$$\\theta^*   = \\underset{}{{argmax}}_{\\theta}  L (\\theta |{D}) $$\n",
    "$$= \\underset{}{{argmax}}_\\theta P({D}|\\ \\theta))$$\n",
    "$$= \\underset{}{\\operatorname{argmax}}_\\theta P(y_{1},x_{1},...,y_{m},x_{m};\\theta)$$\n",
    "$$= \\underset{}{\\operatorname{argmax}}_\\theta \\prod_{i = 1}^{m} P(y_{i},x_{i} ; \\theta)$$\n",
    "$$= \\underset{}{\\operatorname{argmax}}_\\theta \\prod_{i = 1}^{m} [P(y_{i}|x_{i} ; \\theta). P(x_{i}; \\theta ]$$\n",
    "$$= \\underset{}{\\operatorname{argmax}}_\\theta \\prod_{i = 1}^{m} [P(y_{i}| x_{i} ; \\theta)] . P(x_{i})$$\n",
    "$$= \\underset{}{\\operatorname{argmax}}_\\theta \\prod_{i = 1}^{m} [P(y_{i}| x_{i} ; \\theta)]$$\n",
    "$$= \\underset{}{\\operatorname{argmax}}_\\theta\\quad\\sum_{i = 1}^{m}  log P(y_{i} | x_{i} ; \\theta )$$\n",
    "$$= \\underset{}{\\operatorname{argmax}}_\\theta\\quad\\sum_{i=1}^{m} \\left[log\\left(\\frac{1}{\\sqrt{2 \\pi}\\sigma}\\right) + log\\left(exp(^-\\frac{(\\theta^T x_{i} - y_{i})^2}{2 \\sigma^2})\\right)\\right]$$\n",
    "$$= \\underset{}{\\operatorname{argmax}}_\\theta  - \\frac{1}{2 \\sigma^2} \\quad\\sum_{i=1}^{m} (\\theta^T x_{i} - y_{i})^2$$\n",
    "$$= \\underset{}{\\operatorname{argmin}}_\\theta  \\frac{1}{m}\\quad\\sum_{i=1}^{m} (\\theta^T x_{i} - y_{i})^2$$"
   ]
  },
  {
   "cell_type": "markdown",
   "metadata": {},
   "source": [
    "## 2.  Conclusion"
   ]
  },
  {
   "cell_type": "markdown",
   "metadata": {},
   "source": [
    "Hence under the Gaussian assumption (i.e. when the error/noise terms follow Normal distribution) , the linear regression amounts to least square"
   ]
  },
  {
   "cell_type": "markdown",
   "metadata": {},
   "source": []
  }
 ],
 "metadata": {
  "kernelspec": {
   "display_name": "Python 3",
   "language": "python",
   "name": "python3"
  },
  "language_info": {
   "codemirror_mode": {
    "name": "ipython",
    "version": 3
   },
   "file_extension": ".py",
   "mimetype": "text/x-python",
   "name": "python",
   "nbconvert_exporter": "python",
   "pygments_lexer": "ipython3",
   "version": "3.8.5"
  }
 },
 "nbformat": 4,
 "nbformat_minor": 4
}
